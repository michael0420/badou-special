{
 "cells": [
  {
   "cell_type": "code",
   "execution_count": 1,
   "id": "15f20fa4",
   "metadata": {
    "scrolled": true
   },
   "outputs": [],
   "source": [
    "import numpy as np\n",
    "import cv2"
   ]
  },
  {
   "cell_type": "code",
   "execution_count": 2,
   "id": "b407bdb0",
   "metadata": {},
   "outputs": [],
   "source": [
    "o=cv2.imread(\"C:\\lena.jpg\",cv2.IMREAD_UNCHANGED)\n",
    "g=cv2.cvtColor(o,cv2.COLOR_BGR2GRAY)\n",
    "r,b=cv2.threshold(g,128,255,cv2.THRESH_BINARY)\n",
    "cv2.imshow(\"original\",o)\n",
    "cv2.imshow(\"gray\",g)\n",
    "cv2.imshow(\"binaryresult\",b)\n",
    "cv2.waitKey()\n",
    "cv2.destroyAllWindows()"
   ]
  },
  {
   "cell_type": "code",
   "execution_count": null,
   "id": "6e0765e4",
   "metadata": {},
   "outputs": [],
   "source": []
  },
  {
   "cell_type": "code",
   "execution_count": null,
   "id": "2c4f25f8",
   "metadata": {},
   "outputs": [],
   "source": []
  },
  {
   "cell_type": "code",
   "execution_count": null,
   "id": "e1818753",
   "metadata": {},
   "outputs": [],
   "source": []
  },
  {
   "cell_type": "code",
   "execution_count": null,
   "id": "80e3fc62",
   "metadata": {},
   "outputs": [],
   "source": []
  }
 ],
 "metadata": {
  "kernelspec": {
   "display_name": "Python 3 (ipykernel)",
   "language": "python",
   "name": "python3"
  },
  "language_info": {
   "codemirror_mode": {
    "name": "ipython",
    "version": 3
   },
   "file_extension": ".py",
   "mimetype": "text/x-python",
   "name": "python",
   "nbconvert_exporter": "python",
   "pygments_lexer": "ipython3",
   "version": "3.7.13"
  }
 },
 "nbformat": 4,
 "nbformat_minor": 5
}
